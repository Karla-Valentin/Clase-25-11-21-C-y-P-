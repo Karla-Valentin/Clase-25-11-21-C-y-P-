{
  "nbformat": 4,
  "nbformat_minor": 0,
  "metadata": {
    "colab": {
      "name": "Fundamentos3_CyP_1157.ipynb",
      "provenance": [],
      "authorship_tag": "ABX9TyN/Q+Vb7HofPDMJlxyHlHz1",
      "include_colab_link": true
    },
    "kernelspec": {
      "name": "python3",
      "display_name": "Python 3"
    },
    "language_info": {
      "name": "python"
    }
  },
  "cells": [
    {
      "cell_type": "markdown",
      "metadata": {
        "id": "view-in-github",
        "colab_type": "text"
      },
      "source": [
        "<a href=\"https://colab.research.google.com/github/Karla-Valentin/Clase-25-11-21-C-y-P-/blob/main/Fundamentos3_CyP_1157.ipynb\" target=\"_parent\"><img src=\"https://colab.research.google.com/assets/colab-badge.svg\" alt=\"Open In Colab\"/></a>"
      ]
    },
    {
      "cell_type": "markdown",
      "metadata": {
        "id": "c4W2Qa8TF_90"
      },
      "source": [
        "3. Repetición: \n",
        "\n",
        "Este tipo de estructura nos permite automatizar la ejecución repetitiva de \n",
        "código mientas ciertas condiciones s cumplan, tenemos 3 variantes de esta\n",
        " estructura en todos los lenguajes de programación:\n",
        "\n",
        "    - Este tipo de estructura nos permite automatizar la ejecución repetitiva de código mienttras ciertas condiciones se cumplam, tenemos 3 variantes de esta estructura en todos los lenguajes de programación. \n",
        "    - Desde.....hasta (estructura for)\n",
        "    - haz mientras (estructura while)  \n",
        "    - haz y luego validez mientras (estructura Do-while)      \n",
        "\n",
        "# FOR  CON Python\n",
        "```   \n",
        "for j in range(10):    \n",
        "    print(f\"Hola {j}\")\n",
        "```\n",
        "# FOR Con lenguaje C y Java\n",
        "```\n",
        "for( int j=0 ; j=j+1 ){\n",
        "    printf(\"Hola %i /n\", j );\n",
        "}   \n",
        "```\n",
        "En todos los lenguajes de preohramación existe un tipo especial de for, conocido como for-each \n",
        "\n",
        "# For each en Python\n",
        "```\n",
        "for color in colores:     \n",
        "    print(f\"Este es el color {color}\")\n",
        "    "
      ]
    },
    {
      "cell_type": "code",
      "metadata": {
        "colab": {
          "base_uri": "https://localhost:8080/"
        },
        "id": "xSt_YD6jHr1h",
        "outputId": "41991be6-542e-4e5a-bb98-6ce544503e62"
      },
      "source": [
        "# Función range \n",
        "# range(<INICIO>,<STOP>,<INCREMENTO>)\n",
        "x = range(0,10,2)\n",
        "print(x)\n",
        "\n",
        "for j in range(10):\n",
        "    print(f\"Hola {j}\")\n"
      ],
      "execution_count": null,
      "outputs": [
        {
          "output_type": "stream",
          "name": "stdout",
          "text": [
            "range(0, 10, 2)\n",
            "Hola 0\n",
            "Hola 1\n",
            "Hola 2\n",
            "Hola 3\n",
            "Hola 4\n",
            "Hola 5\n",
            "Hola 6\n",
            "Hola 7\n",
            "Hola 8\n",
            "Hola 9\n"
          ]
        }
      ]
    },
    {
      "cell_type": "code",
      "metadata": {
        "colab": {
          "base_uri": "https://localhost:8080/"
        },
        "id": "cbZCNEPPJujj",
        "outputId": "8680904e-e3fd-452a-bce7-5ff2f8f3c91d"
      },
      "source": [
        "for j in range(0,10,2):\n",
        "    print(f\"Hola {j}\")\n",
        "print(\"-----FRUTAS-----\")    \n",
        "\n",
        "frutas = [\"uva\", \"aguacate\", \"pera\", \"manzana\", \"sandia\"] \n",
        "\n",
        "for index in range(5):\n",
        "    print(frutas[index])\n"
      ],
      "execution_count": null,
      "outputs": [
        {
          "output_type": "stream",
          "name": "stdout",
          "text": [
            "Hola 0\n",
            "Hola 2\n",
            "Hola 4\n",
            "Hola 6\n",
            "Hola 8\n",
            "-----FRUTAS-----\n",
            "uva\n",
            "aguacate\n",
            "pera\n",
            "manzana\n",
            "sandia\n"
          ]
        }
      ]
    },
    {
      "cell_type": "markdown",
      "metadata": {
        "id": "Tr7mNHLoLTqf"
      },
      "source": [
        "imprimir un  cuadrado de 5x5 "
      ]
    },
    {
      "cell_type": "code",
      "metadata": {
        "colab": {
          "base_uri": "https://localhost:8080/"
        },
        "id": "H72967NMLZ0q",
        "outputId": "abed309a-bd16-4825-dd07-f4e94b347e1b"
      },
      "source": [
        "for i in range(5):\n",
        "    print(\"+++++\")\n",
        "    "
      ],
      "execution_count": null,
      "outputs": [
        {
          "output_type": "stream",
          "name": "stdout",
          "text": [
            "+++++\n",
            "+++++\n",
            "+++++\n",
            "+++++\n",
            "+++++\n"
          ]
        }
      ]
    },
    {
      "cell_type": "markdown",
      "metadata": {
        "id": "Ywcm4IPoLrD9"
      },
      "source": [
        "Tarea moral: triangulo usando estructura for de menor a mayor \n",
        "\n",
        "+\n",
        "++\n",
        "+++\n",
        "++++\n",
        "+++++"
      ]
    },
    {
      "cell_type": "code",
      "metadata": {
        "colab": {
          "base_uri": "https://localhost:8080/"
        },
        "id": "B1C4iyGRLzHD",
        "outputId": "8349458c-337b-4ca4-c59a-de73b5b2fa1c"
      },
      "source": [
        "for x in range(1, 20, 1):\n",
        "    print(x)\n",
        "print(\"---Fin del programa---\")    \n",
        "\n",
        "for x in range(19,0,-1):\n",
        "    print(x)\n",
        "print(\"---Fin del programa---\")    "
      ],
      "execution_count": 3,
      "outputs": [
        {
          "output_type": "stream",
          "name": "stdout",
          "text": [
            "1\n",
            "2\n",
            "3\n",
            "4\n",
            "5\n",
            "6\n",
            "7\n",
            "8\n",
            "9\n",
            "10\n",
            "11\n",
            "12\n",
            "13\n",
            "14\n",
            "15\n",
            "16\n",
            "17\n",
            "18\n",
            "19\n",
            "---Fin del programa---\n",
            "19\n",
            "18\n",
            "17\n",
            "16\n",
            "15\n",
            "14\n",
            "13\n",
            "12\n",
            "11\n",
            "10\n",
            "9\n",
            "8\n",
            "7\n",
            "6\n",
            "5\n",
            "4\n",
            "3\n",
            "2\n",
            "1\n",
            "---Fin del programa---\n"
          ]
        }
      ]
    },
    {
      "cell_type": "code",
      "metadata": {
        "colab": {
          "base_uri": "https://localhost:8080/"
        },
        "id": "-HlnZqZ3NqN-",
        "outputId": "5397e658-757c-4708-f3c7-217a24a43690"
      },
      "source": [
        "#Ejemplo 3.3 pág. 113\n",
        "\n",
        "CUECER = 0\n",
        "NUM = 0 \n",
        "N= int(input(\" un valor númerico mayor que 1:\"))\n",
        "for I in range(1, N+1 ,1): #N+1 es para incluir por ejemplo del 1 al 10, sin saltarse el 10\n",
        "    N = int(input(\"Un valor númerico:\"))\n",
        "    if N == 0:\n",
        "        CUECER +=1\n",
        "\n",
        "print(\"CUECER=\", CUECER)\n",
        "             \n",
        "\n"
      ],
      "execution_count": 7,
      "outputs": [
        {
          "output_type": "stream",
          "name": "stdout",
          "text": [
            " un valor númerico mayor que 1:4\n",
            "Un valor númerico mayor que 1:0\n",
            "Un valor númerico mayor que 1:0\n",
            "Un valor númerico mayor que 1:2\n",
            "Un valor númerico mayor que 1:2\n",
            "CUECER= 2\n"
          ]
        }
      ]
    },
    {
      "cell_type": "markdown",
      "metadata": {
        "id": "VwSYqMpHQwz3"
      },
      "source": [
        "Programa para que imprima la tabla del 7\n",
        "\n",
        "\n",
        "\n"
      ]
    },
    {
      "cell_type": "code",
      "metadata": {
        "colab": {
          "base_uri": "https://localhost:8080/"
        },
        "id": "6TqcJ6phQtlI",
        "outputId": "2823a1d0-863f-4ff0-ec8a-b3f3546d8ac6"
      },
      "source": [
        "for i in range(1, 11):\n",
        " print(f\"7 * {i} = \", 7*i)"
      ],
      "execution_count": 9,
      "outputs": [
        {
          "output_type": "stream",
          "name": "stdout",
          "text": [
            "7 * 1 =  7\n",
            "7 * 2 =  14\n",
            "7 * 3 =  21\n",
            "7 * 4 =  28\n",
            "7 * 5 =  35\n",
            "7 * 6 =  42\n",
            "7 * 7 =  49\n",
            "7 * 8 =  56\n",
            "7 * 9 =  63\n",
            "7 * 10 =  70\n"
          ]
        }
      ]
    },
    {
      "cell_type": "code",
      "metadata": {
        "colab": {
          "base_uri": "https://localhost:8080/"
        },
        "id": "-yCR8bL_Rlgy",
        "outputId": "60b7eb62-4396-4b10-e0d0-12e9576d519b"
      },
      "source": [
        "# Otra solución\n",
        "n=7\n",
        "for i in range(1,11,1):\n",
        "    x=n*i\n",
        "    print(f\"{n} x {i} = {x}\")"
      ],
      "execution_count": 10,
      "outputs": [
        {
          "output_type": "stream",
          "name": "stdout",
          "text": [
            "7 x 1 = 7\n",
            "7 x 2 = 14\n",
            "7 x 3 = 21\n",
            "7 x 4 = 28\n",
            "7 x 5 = 35\n",
            "7 x 6 = 42\n",
            "7 x 7 = 49\n",
            "7 x 8 = 56\n",
            "7 x 9 = 63\n",
            "7 x 10 = 70\n"
          ]
        }
      ]
    },
    {
      "cell_type": "markdown",
      "metadata": {
        "id": "7JUikEj7R3tI"
      },
      "source": [
        "El programa mande un mensaje: Dame un numero entre 1 y 5\n",
        "luego preguntar: Dame un numero entre 2 y 10\n",
        "y que imprima despues "
      ]
    },
    {
      "cell_type": "code",
      "metadata": {
        "colab": {
          "base_uri": "https://localhost:8080/"
        },
        "id": "B6adVAMfSqYq",
        "outputId": "9876e1e9-62cb-4562-bddd-74c88384ddb2"
      },
      "source": [
        "N1 = int(input(\"Dame un número del 1 al 5:\"))\n",
        "if N1 > 0 and N1 <= 5:\n",
        "    N2 = int(input(f\"Dame un número entre {N1} y 10:\"))\n",
        "    if N2 >= N1 and N2 <= 10:\n",
        "        for i in range(N1, N2+1): #N+2 para que se incluya completo y no se haga el stop.\n",
        "            for j in range(0,11):\n",
        "                print(f\"{i}x{j}=\", i*j)\n",
        "            print(\"--------\")\n",
        "else:\n",
        "    print(\"Valor fuera de rango 1-5\")            \n",
        "  "
      ],
      "execution_count": 19,
      "outputs": [
        {
          "output_type": "stream",
          "name": "stdout",
          "text": [
            "Dame un número del 1 al 5:5\n",
            "Dame un número entre 5 y 10:8\n",
            "5x0= 0\n",
            "5x1= 5\n",
            "5x2= 10\n",
            "5x3= 15\n",
            "5x4= 20\n",
            "5x5= 25\n",
            "5x6= 30\n",
            "5x7= 35\n",
            "5x8= 40\n",
            "5x9= 45\n",
            "5x10= 50\n",
            "--------\n",
            "6x0= 0\n",
            "6x1= 6\n",
            "6x2= 12\n",
            "6x3= 18\n",
            "6x4= 24\n",
            "6x5= 30\n",
            "6x6= 36\n",
            "6x7= 42\n",
            "6x8= 48\n",
            "6x9= 54\n",
            "6x10= 60\n",
            "--------\n",
            "7x0= 0\n",
            "7x1= 7\n",
            "7x2= 14\n",
            "7x3= 21\n",
            "7x4= 28\n",
            "7x5= 35\n",
            "7x6= 42\n",
            "7x7= 49\n",
            "7x8= 56\n",
            "7x9= 63\n",
            "7x10= 70\n",
            "--------\n",
            "8x0= 0\n",
            "8x1= 8\n",
            "8x2= 16\n",
            "8x3= 24\n",
            "8x4= 32\n",
            "8x5= 40\n",
            "8x6= 48\n",
            "8x7= 56\n",
            "8x8= 64\n",
            "8x9= 72\n",
            "8x10= 80\n",
            "--------\n"
          ]
        }
      ]
    },
    {
      "cell_type": "code",
      "metadata": {
        "colab": {
          "base_uri": "https://localhost:8080/"
        },
        "id": "-ELem7QqWpju",
        "outputId": "80f59b1f-433b-46e4-a66a-198ee4ad3d68"
      },
      "source": [
        "# Generadores de listas \n",
        "numeros = [0,0,0,0,0]\n",
        "print(numeros)\n",
        "\n",
        "# es más fácil por si quiero imprimirlo más veces\n",
        "numeros = [ 0 for x in range(5)] \n",
        "print(numeros)\n",
        "\n",
        "#Emplenado la variable x para el valor inicial\n",
        "numeros = [ x for x in range(5)] \n",
        "print(numeros)\n",
        "\n",
        "# [10,20,30,40,50,60,70,80,90,100]\n",
        "numeros = [ x for x in range(10,101,10) ]\n",
        "print(numeros)\n",
        "#Otra solución\n",
        "numeros = [ x*10 for x in range(1,11)] \n",
        "print(numeros)\n"
      ],
      "execution_count": 24,
      "outputs": [
        {
          "output_type": "stream",
          "name": "stdout",
          "text": [
            "[0, 0, 0, 0, 0]\n",
            "[0, 0, 0, 0, 0]\n",
            "[0, 1, 2, 3, 4]\n",
            "[10, 20, 30, 40, 50, 60, 70, 80, 90, 100]\n",
            "[10, 20, 30, 40, 50, 60, 70, 80, 90, 100]\n"
          ]
        }
      ]
    },
    {
      "cell_type": "markdown",
      "metadata": {
        "id": "Q648O9FgYSJ8"
      },
      "source": [
        "Calcular promedio de edades.\n",
        "\n",
        "Dada esa lista vacía, agregar las 5 edades y despues calcular el promedio."
      ]
    },
    {
      "cell_type": "code",
      "metadata": {
        "colab": {
          "base_uri": "https://localhost:8080/"
        },
        "id": "BSlVuROUYWdr",
        "outputId": "3949bf43-9519-466e-dbf4-bb7c76b47a59"
      },
      "source": [
        "suma=0\n",
        "edades=[0 for x in range(5)]\n",
        "for x in range(5):\n",
        "    edades[x]=int(input(\"Dame una edad: \"))\n",
        "    suma=suma+edades[x]\n",
        "print(edades)\n",
        "print(\"promedio: \", suma/5) "
      ],
      "execution_count": 29,
      "outputs": [
        {
          "output_type": "stream",
          "name": "stdout",
          "text": [
            "Dame una edad: 17\n",
            "Dame una edad: 19\n",
            "Dame una edad: 45\n",
            "Dame una edad: 34\n",
            "Dame una edad: 65\n",
            "[17, 19, 45, 34, 65]\n",
            "promedio:  36.0\n"
          ]
        }
      ]
    },
    {
      "cell_type": "code",
      "metadata": {
        "colab": {
          "base_uri": "https://localhost:8080/"
        },
        "id": "LCuZFExDdwP2",
        "outputId": "a534216f-c9c4-4cd9-b7bb-a58429436a24"
      },
      "source": [
        "import random\n",
        "print(random.random())\n",
        "print(random.uniform(5,11))\n",
        "val = round(random.uniform(5,11) , 2)\n",
        "print(val)\n",
        "\n",
        "valores = [round(random.uniform(5,11),2) for x in range(20)]\n",
        "print(valores)"
      ],
      "execution_count": 33,
      "outputs": [
        {
          "output_type": "stream",
          "name": "stdout",
          "text": [
            "0.9232136053908556\n",
            "5.207965777343709\n",
            "6.17\n",
            "[6.69, 9.97, 9.3, 10.91, 5.68, 6.81, 5.8, 9.87, 5.26, 6.58, 8.03, 5.94, 6.32, 5.38, 5.98, 10.29, 6.5, 6.1, 7.27, 7.86]\n"
          ]
        }
      ]
    },
    {
      "cell_type": "markdown",
      "metadata": {
        "id": "LGl0ina4ebQn"
      },
      "source": [
        " 1. identificar cual de los numeros aleatorios es el menor.\n",
        " 2. Cúal es el valor más grande de la lista. \n",
        " 3. Se tiene que decir el promedio de los valores"
      ]
    }
  ]
}